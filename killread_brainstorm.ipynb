{
 "cells": [
  {
   "cell_type": "code",
   "execution_count": 4,
   "metadata": {},
   "outputs": [],
   "source": [
    "from pytube import YouTube, Stream, request\n",
    "import scrapetube\n",
    "import io\n",
    "\n",
    "import imageio.v3 as iio\n",
    "import time\n"
   ]
  },
  {
   "cell_type": "code",
   "execution_count": 4,
   "metadata": {},
   "outputs": [],
   "source": [
    "videos = scrapetube.get_channel(channel_url=\"https://www.youtube.com/thedanechannel\")\n",
    "\n",
    "video_ids = []\n",
    "for video in videos:\n",
    "    video_ids.append(video['videoId'])\n",
    "yt = YouTube('https://www.youtube.com/watch?v=' + video_ids[0])"
   ]
  },
  {
   "cell_type": "code",
   "execution_count": 3,
   "metadata": {},
   "outputs": [
    {
     "name": "stderr",
     "output_type": "stream",
     "text": [
      "C:\\Users\\David\\AppData\\Local\\Programs\\Python\\Python38\\lib\\site-packages\\imageio\\core\\request.py:267: UserWarning: The usage of `format_hint` is deprecated and will be removed in ImageIO v3. Use `extension` instead.\n",
      "  warnings.warn(\n"
     ]
    },
    {
     "data": {
      "text/plain": [
       "(391, 30)"
      ]
     },
     "execution_count": 3,
     "metadata": {},
     "output_type": "execute_result"
    }
   ],
   "source": [
    "\n",
    "yt = YouTube('https://www.youtube.com/watch?v=-BGMI34rAl8')\n",
    "\n",
    "stream = yt.streams.filter(file_extension='mp4',res='360p',progressive='false').first()\n",
    "buffy = io.BytesIO()\n",
    "\n",
    "stream.stream_to_buffer(buffy)\n",
    "frames = [frame for frame in iio.imiter(buffy, format_hint=\".mp4\")]\n",
    "len(frames), stream.fps"
   ]
  },
  {
   "cell_type": "code",
   "execution_count": 11,
   "metadata": {},
   "outputs": [],
   "source": [
    "class TimeArr():\n",
    "    def __init__(self):\n",
    "        self.timestamps = []\n",
    "        self.labels = []\n",
    "    \n",
    "    def start(self):\n",
    "        self.save(\"Start\")\n",
    "\n",
    "    def save(self, label=None):\n",
    "        self.timestamps.append(time.time())\n",
    "        self.labels.append(label if label is not None else len(self.timestamps))\n",
    "    \n",
    "    def report(self):\n",
    "        for i in range(len(self.timestamps)):\n",
    "            t = self.timestamps[i]\n",
    "            t_prev = self.timestamps[i-1] if i > 0 else t\n",
    "            print(f'{self.labels[i]} -> {t-t_prev}')"
   ]
  },
  {
   "cell_type": "code",
   "execution_count": 18,
   "metadata": {},
   "outputs": [
    {
     "name": "stdout",
     "output_type": "stream",
     "text": [
      "Start -> 0.0\n",
      "yt -> 0.0\n",
      "yt stream -> 1.263817310333252\n",
      "to_buffer -> 0.600736141204834\n",
      "read_frames -> 0.2457120418548584\n",
      "indx frames -> 1.8976950645446777\n"
     ]
    },
    {
     "data": {
      "text/plain": [
       "(391, 30)"
      ]
     },
     "execution_count": 18,
     "metadata": {},
     "output_type": "execute_result"
    }
   ],
   "source": [
    "clock = TimeArr()\n",
    "\n",
    "clock.start()\n",
    "yt = YouTube('https://www.youtube.com/watch?v=-BGMI34rAl8')\n",
    "clock.save(\"yt\")\n",
    "\n",
    "stream = yt.streams.filter(file_extension='mp4',res='360p',progressive='false').first()\n",
    "clock.save(\"yt stream\")\n",
    "\n",
    "buffy = io.BytesIO()\n",
    "stream.stream_to_buffer(buffy)\n",
    "clock.save(\"to_buffer\")\n",
    "\n",
    "frames = [frame for frame in iio.imiter(buffy, format_hint=\".mp4\")]\n",
    "clock.save(\"read_frames\")\n",
    "\n",
    "for i in range(0,len(frames)-1,int(stream.fps)):\n",
    "    frame = iio.imread(\n",
    "        buffy,\n",
    "        index=i,\n",
    "        format_hint='.mp4'\n",
    "    )\n",
    "clock.save(\"indx frames\")\n",
    "\n",
    "clock.report()\n",
    "len(frames), stream.fps"
   ]
  },
  {
   "cell_type": "code",
   "execution_count": null,
   "metadata": {},
   "outputs": [],
   "source": []
  }
 ],
 "metadata": {
  "kernelspec": {
   "display_name": "Python 3.8.2 32-bit",
   "language": "python",
   "name": "python3"
  },
  "language_info": {
   "codemirror_mode": {
    "name": "ipython",
    "version": 3
   },
   "file_extension": ".py",
   "mimetype": "text/x-python",
   "name": "python",
   "nbconvert_exporter": "python",
   "pygments_lexer": "ipython3",
   "version": "3.8.0"
  },
  "orig_nbformat": 4,
  "vscode": {
   "interpreter": {
    "hash": "9bb78a6a073c75c4feaab0c6b4d074b0b98c35b345cca995eb708849e1e1d93e"
   }
  }
 },
 "nbformat": 4,
 "nbformat_minor": 2
}
